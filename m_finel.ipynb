{
 "cells": [
  {
   "cell_type": "code",
   "execution_count": 65,
   "metadata": {
    "colab": {},
    "colab_type": "code",
    "id": "pxzIx_F64WQB"
   },
   "outputs": [],
   "source": [
    "import pandas as pd\n",
    "import numpy as np\n",
    "import matplotlib.pyplot as plt\n",
    "import itertools\n",
    "from scipy.optimize import minimize\n",
    "from scipy.optimize import Bounds\n",
    "from scipy.spatial.distance import cosine as dcos\n",
    "from sympy import *\n",
    "x = Symbol('x')\n",
    "%matplotlib inline"
   ]
  },
  {
   "cell_type": "markdown",
   "metadata": {
    "colab_type": "text",
    "id": "1iAvmD0k4WQL"
   },
   "source": [
    "### Задание 1"
   ]
  },
  {
   "cell_type": "markdown",
   "metadata": {
    "colab_type": "text",
    "id": "Lx-GXek24WQM"
   },
   "source": [
    "Дана матрица рейтингов фильмов (строки - пользователи (10 человек), столбцы - фильмы (15 фильмов))"
   ]
  },
  {
   "cell_type": "code",
   "execution_count": 3,
   "metadata": {
    "colab": {},
    "colab_type": "code",
    "id": "x7qefIxM4WQN"
   },
   "outputs": [],
   "source": [
    "raitings = np.array([[ 4,  4,  9,  4,  1,  6, 10,  7,  9,  6,  9,  2,  8,  6,  6],\n",
    "                     [ 9,  2,  5, 10,  7,  8, 10,  5,  6,  2,  1,  6,  8,  9,  7],\n",
    "                     [ 1,  6,  8,  8,  4,  9,  3,  8, 10,  5,  2,  6,  8,  1,  6],\n",
    "                     [ 6,  1,  9,  7,  7,  9,  2,  3,  5,  1,  6,  6,  3,  2,  7],\n",
    "                     [ 3,  7,  3,  5,  7,  9,  9,  6,  2,  9,  1,  2,  8, 10,  6],\n",
    "                     [ 8,  3,  7,  3,  8,  6,  1,  8,  8,  6,  1,  9,  4, 10,  1],\n",
    "                     [ 9,  8,  4,  8,  8, 10,  6,  1,  1,  2,  9,  5,  2,  7,  2],\n",
    "                     [ 4,  1,  6,  4,  3, 10,  4,  4,  2,  8,  7,  9,  3,  8,  3],\n",
    "                     [ 2,  7,  7,  6, 10,  6,  8,  9,  8,  6, 10,  1,  7, 10,  4],\n",
    "                     [ 5, 10,  8,  8,  9,  7,  2,  9,  9, 10,  8,  8,  8,  6, 10]])"
   ]
  },
  {
   "cell_type": "markdown",
   "metadata": {
    "colab_type": "text",
    "id": "C_f3ouA24WQS"
   },
   "source": [
    "<b> a) </b> Необходимо найти наиболее похожего пользователя по косинусной метрике для каждого из (ответ: 10 пар вида (x, y), где y - наиболее похожий пользователь на пользователя x)."
   ]
  },
  {
   "cell_type": "markdown",
   "metadata": {
    "colab_type": "text",
    "id": "TYSv6W0E4WQT"
   },
   "source": [
    "<b> b) </b>Предположим, вы захотели сжать признаковые описания пользователя с 15 фильмов, до, скажем, 5-ти признаков, как вы это сделаете?"
   ]
  },
  {
   "cell_type": "code",
   "execution_count": 4,
   "metadata": {
    "colab": {
     "base_uri": "https://localhost:8080/",
     "height": 358
    },
    "colab_type": "code",
    "id": "Zs0YWKF9EtoH",
    "outputId": "3005723a-1357-49b0-a7a8-8ae5f8e59961"
   },
   "outputs": [
    {
     "data": {
      "text/html": [
       "<div>\n",
       "<style scoped>\n",
       "    .dataframe tbody tr th:only-of-type {\n",
       "        vertical-align: middle;\n",
       "    }\n",
       "\n",
       "    .dataframe tbody tr th {\n",
       "        vertical-align: top;\n",
       "    }\n",
       "\n",
       "    .dataframe thead th {\n",
       "        text-align: right;\n",
       "    }\n",
       "</style>\n",
       "<table border=\"1\" class=\"dataframe\">\n",
       "  <thead>\n",
       "    <tr style=\"text-align: right;\">\n",
       "      <th></th>\n",
       "      <th>user</th>\n",
       "      <th>similiar user</th>\n",
       "      <th>distance</th>\n",
       "    </tr>\n",
       "  </thead>\n",
       "  <tbody>\n",
       "    <tr>\n",
       "      <th>0</th>\n",
       "      <td>0</td>\n",
       "      <td>8</td>\n",
       "      <td>0.089340</td>\n",
       "    </tr>\n",
       "    <tr>\n",
       "      <th>1</th>\n",
       "      <td>1</td>\n",
       "      <td>4</td>\n",
       "      <td>0.128619</td>\n",
       "    </tr>\n",
       "    <tr>\n",
       "      <th>2</th>\n",
       "      <td>2</td>\n",
       "      <td>9</td>\n",
       "      <td>0.081269</td>\n",
       "    </tr>\n",
       "    <tr>\n",
       "      <th>3</th>\n",
       "      <td>3</td>\n",
       "      <td>9</td>\n",
       "      <td>0.141131</td>\n",
       "    </tr>\n",
       "    <tr>\n",
       "      <th>4</th>\n",
       "      <td>4</td>\n",
       "      <td>8</td>\n",
       "      <td>0.120515</td>\n",
       "    </tr>\n",
       "    <tr>\n",
       "      <th>5</th>\n",
       "      <td>5</td>\n",
       "      <td>9</td>\n",
       "      <td>0.144851</td>\n",
       "    </tr>\n",
       "    <tr>\n",
       "      <th>6</th>\n",
       "      <td>6</td>\n",
       "      <td>3</td>\n",
       "      <td>0.167258</td>\n",
       "    </tr>\n",
       "    <tr>\n",
       "      <th>7</th>\n",
       "      <td>7</td>\n",
       "      <td>5</td>\n",
       "      <td>0.155483</td>\n",
       "    </tr>\n",
       "    <tr>\n",
       "      <th>8</th>\n",
       "      <td>8</td>\n",
       "      <td>0</td>\n",
       "      <td>0.089340</td>\n",
       "    </tr>\n",
       "    <tr>\n",
       "      <th>9</th>\n",
       "      <td>9</td>\n",
       "      <td>2</td>\n",
       "      <td>0.081269</td>\n",
       "    </tr>\n",
       "  </tbody>\n",
       "</table>\n",
       "</div>"
      ],
      "text/plain": [
       "   user   similiar user  distance\n",
       "0      0              8  0.089340\n",
       "1      1              4  0.128619\n",
       "2      2              9  0.081269\n",
       "3      3              9  0.141131\n",
       "4      4              8  0.120515\n",
       "5      5              9  0.144851\n",
       "6      6              3  0.167258\n",
       "7      7              5  0.155483\n",
       "8      8              0  0.089340\n",
       "9      9              2  0.081269"
      ]
     },
     "execution_count": 4,
     "metadata": {},
     "output_type": "execute_result"
    }
   ],
   "source": [
    "users10 = []\n",
    "for u1 in range(raitings.shape[0]):\n",
    "    users10.append([u1,-1,1])\n",
    "    for u2 in range(raitings.shape[0]):\n",
    "        if u1 != u2:\n",
    "            similarity = dcos(raitings[u1], raitings[u2])\n",
    "            if similarity < users10[u1][2]:\n",
    "                users10[u1][1] = u2\n",
    "                users10[u1][2] = similarity\n",
    "rdata = pd.DataFrame(users10, columns = ['user ', 'similiar user', 'distance'])\n",
    "rdata\n"
   ]
  },
  {
   "cell_type": "code",
   "execution_count": 5,
   "metadata": {
    "colab_type": "text",
    "id": "QkyRMTPlTpyt"
   },
   "outputs": [
    {
     "data": {
      "text/plain": [
       "(array([[-0.31657412,  0.33715914,  0.25954676, -0.32313099,  0.09207837,\n",
       "         -0.58851124, -0.0453819 , -0.19565304,  0.35054985, -0.31028639],\n",
       "        [-0.33479455, -0.28439058,  0.09199084,  0.12555894,  0.71806708,\n",
       "         -0.01702233, -0.18150051, -0.24841336,  0.00678089,  0.41496931],\n",
       "        [-0.30113006,  0.43803788, -0.32813535, -0.03784482,  0.28153805,\n",
       "          0.17930093,  0.21107187,  0.62193521,  0.22482495,  0.12257634],\n",
       "        [-0.26258518, -0.16639669, -0.46465087, -0.37843889,  0.16373246,\n",
       "         -0.03086391, -0.0415363 , -0.03686694, -0.57777422, -0.42376451],\n",
       "        [-0.30839361, -0.0323668 ,  0.52165829,  0.35126319,  0.10782477,\n",
       "          0.26888265,  0.43290107,  0.05408417, -0.19314843, -0.4435919 ],\n",
       "        [-0.29426772, -0.12219603, -0.30949097,  0.66087703, -0.18528641,\n",
       "         -0.2003944 , -0.42629516,  0.1003013 ,  0.1648537 , -0.26921722],\n",
       "        [-0.28703131, -0.61511395,  0.07879957, -0.38595816, -0.21779322,\n",
       "          0.2720764 , -0.04045301,  0.19233716,  0.4671331 , -0.07597346],\n",
       "        [-0.27000611, -0.25159867, -0.11342148,  0.09141158, -0.29758717,\n",
       "         -0.50991949,  0.56031884,  0.06495692, -0.15944584,  0.38781272],\n",
       "        [-0.35676459,  0.19061971,  0.39719574, -0.13300294, -0.31022014,\n",
       "          0.03860692, -0.4718705 ,  0.27611297, -0.41812545,  0.29912013],\n",
       "        [-0.404712  ,  0.30314724, -0.23632528,  0.00438867, -0.30272672,\n",
       "          0.41505855,  0.10646654, -0.61758506,  0.09874844,  0.1484126 ]]),\n",
       " array([73.97894988, 15.90026986, 14.76407467, 12.59396914, 11.97537142,\n",
       "        10.37385398,  9.37862478,  5.60060266,  5.38541128,  3.36987521]),\n",
       " array([[-2.14058275e-01, -2.18407239e-01, -2.80940886e-01,\n",
       "         -2.70897442e-01, -2.77538031e-01, -3.34369881e-01,\n",
       "         -2.36253832e-01, -2.63745782e-01, -2.63272972e-01,\n",
       "         -2.40612189e-01, -2.33080633e-01, -2.26403263e-01,\n",
       "         -2.59142556e-01, -2.96445073e-01, -2.28318621e-01],\n",
       "        [-4.71145097e-01,  1.15836424e-01,  1.54475847e-01,\n",
       "         -1.28461671e-01, -2.08268255e-01, -2.66237857e-01,\n",
       "         -9.24712376e-02,  3.51811571e-01,  4.38304124e-01,\n",
       "          2.12931127e-01, -3.09848018e-02, -2.06967311e-01,\n",
       "          2.80123226e-01, -2.87444852e-01,  1.87934026e-01],\n",
       "        [-1.55283255e-01,  1.65667899e-01, -2.76894440e-01,\n",
       "         -1.06369153e-01, -2.37585265e-02, -1.09807869e-01,\n",
       "          5.90021988e-01, -1.03522830e-03, -2.19909358e-01,\n",
       "          1.18128790e-01,  8.07706556e-02, -5.11239821e-01,\n",
       "          1.64972778e-01,  3.68981136e-01, -7.83542612e-02],\n",
       "        [ 4.11144788e-02, -8.64563066e-02, -1.74721593e-01,\n",
       "         -2.17147230e-01,  1.10944114e-01, -1.00603684e-01,\n",
       "         -1.61127587e-01,  2.49687579e-01,  2.67123295e-02,\n",
       "          3.23690265e-01, -6.54715369e-01,  2.42562838e-01,\n",
       "          8.26879292e-02,  4.16374865e-01, -1.70983818e-01],\n",
       "        [ 1.37905662e-01, -2.82447906e-01, -6.56713860e-03,\n",
       "          3.10207622e-01, -1.50186547e-01,  8.59208522e-02,\n",
       "          3.73629123e-01, -6.52690029e-02,  1.24024521e-01,\n",
       "         -3.57912934e-01, -5.47163212e-01, -6.57207503e-02,\n",
       "          2.85954821e-01, -1.64867632e-01,  2.73850531e-01],\n",
       "        [-7.21158700e-02,  5.80823006e-01, -3.08630518e-01,\n",
       "          3.01369681e-01,  4.66650202e-01, -3.42317325e-02,\n",
       "         -2.53315537e-01, -5.17981301e-02, -1.47371994e-01,\n",
       "         -6.11990524e-02, -2.39634002e-01, -1.46920976e-01,\n",
       "          4.35847619e-02, -2.10164271e-01,  1.87186317e-01],\n",
       "        [-2.66461908e-01,  4.58548035e-02, -9.99948815e-02,\n",
       "          2.39980413e-02, -3.78048986e-01,  4.53431555e-01,\n",
       "          2.00093014e-02, -1.66546586e-01, -4.13231435e-01,\n",
       "          4.64029272e-01, -7.66875347e-02,  2.22533543e-01,\n",
       "          6.99061990e-02, -1.69775824e-01,  2.53899411e-01],\n",
       "        [-3.92417264e-01,  8.13114255e-02,  1.17183320e-01,\n",
       "          9.57958423e-02,  7.36630611e-02,  5.53418636e-01,\n",
       "          5.82171028e-02,  1.35534395e-01,  1.19117167e-01,\n",
       "         -2.00730824e-01, -1.47493823e-01, -8.54847266e-02,\n",
       "         -5.03724967e-02, -7.06973290e-02, -6.26060542e-01],\n",
       "        [ 4.05669530e-01,  5.51059875e-01, -1.60251055e-01,\n",
       "          2.47935942e-02, -5.22542120e-01, -9.44870754e-02,\n",
       "          9.95764821e-02, -6.16617498e-02,  2.19021158e-01,\n",
       "          9.54969302e-03, -3.46771035e-02,  1.84571035e-01,\n",
       "          6.63251863e-02, -1.19534498e-01, -3.28262764e-01],\n",
       "        [-3.57031880e-01, -1.94166336e-01, -4.33895227e-01,\n",
       "          5.40874748e-01, -7.65201020e-02, -2.69531088e-01,\n",
       "          2.69094155e-02,  8.90068564e-02,  5.68520179e-02,\n",
       "         -6.55487739e-02,  2.43800827e-01,  4.00265106e-01,\n",
       "          6.34473282e-02,  1.40161325e-01, -1.26561791e-01],\n",
       "        [-3.75048390e-02,  1.09900780e-01,  6.07657142e-01,\n",
       "          2.65040489e-01, -3.77420735e-02, -3.81252306e-01,\n",
       "          4.57804362e-02,  1.03040498e-01, -5.35183029e-01,\n",
       "          1.33119234e-02, -1.07647065e-01,  8.53038189e-02,\n",
       "          1.73769772e-01, -2.86670050e-02, -2.25942735e-01],\n",
       "        [-3.22960471e-01,  2.19115357e-01,  1.03586644e-01,\n",
       "         -4.02436075e-01,  2.45008406e-01, -1.45582699e-01,\n",
       "          3.94171201e-01, -3.29216306e-01,  9.15949302e-02,\n",
       "         -1.99468596e-01, -6.68242448e-02,  5.15717760e-01,\n",
       "         -2.21666829e-02, -5.49304257e-02,  8.89151307e-02],\n",
       "        [ 6.13960608e-02, -7.70607862e-02, -1.27984662e-01,\n",
       "         -2.66803215e-01,  6.19827695e-02,  1.11373347e-01,\n",
       "         -2.77138967e-01, -1.02601633e-01, -1.40910672e-01,\n",
       "         -2.26257601e-01,  1.99979314e-01,  5.80107492e-02,\n",
       "          8.17137205e-01, -5.12747358e-04, -1.30500475e-01],\n",
       "        [-2.26685223e-01,  1.65783266e-01,  2.40414026e-01,\n",
       "          1.57604042e-01, -2.57133081e-01,  2.04209502e-02,\n",
       "         -3.22892767e-01, -4.86213218e-01,  1.90943681e-01,\n",
       "         -1.41395119e-01, -8.75004868e-02, -1.35697210e-01,\n",
       "          1.54892912e-02,  5.73515494e-01,  1.40043684e-01],\n",
       "        [-6.54282690e-02,  2.07926744e-01, -5.36897873e-02,\n",
       "         -1.82907616e-01, -2.60268625e-01,  1.17325423e-01,\n",
       "         -6.93969963e-02,  5.60014192e-01, -2.55196444e-01,\n",
       "         -5.24438216e-01,  2.73318587e-02,  1.16919852e-01,\n",
       "         -1.48874871e-01,  2.19351869e-01,  3.02248330e-01]]))"
      ]
     },
     "execution_count": 5,
     "metadata": {},
     "output_type": "execute_result"
    }
   ],
   "source": [
    "np.linalg.svd(raitings)"
   ]
  },
  {
   "cell_type": "markdown",
   "metadata": {
    "colab_type": "text",
    "id": "pqROUwxW4WQT"
   },
   "source": [
    "### Задание 2"
   ]
  },
  {
   "cell_type": "markdown",
   "metadata": {
    "colab_type": "text",
    "id": "Euw7S8ZK4WQU"
   },
   "source": [
    "Вычислите производную $tg^2(sin(x) + cos(2x+3))$ в точке $x_0=1$ на python и на бумаге (просто подставить точку в производную и ничего не упрощать)."
   ]
  },
  {
   "cell_type": "code",
   "execution_count": 6,
   "metadata": {
    "colab": {
     "base_uri": "https://localhost:8080/",
     "height": 34
    },
    "colab_type": "code",
    "id": "fehOoRLgT1q8",
    "outputId": "348e4e9e-b70d-4edd-ac7e-d26da0142ab7"
   },
   "outputs": [
    {
     "data": {
      "text/latex": [
       "$\\displaystyle 2 \\left(1 + \\tan^{2}{\\left(\\cos{\\left(5 \\right)} + \\sin{\\left(1 \\right)} \\right)}\\right) \\left(\\cos{\\left(1 \\right)} - 2 \\sin{\\left(5 \\right)}\\right) \\tan{\\left(\\cos{\\left(5 \\right)} + \\sin{\\left(1 \\right)} \\right)}$"
      ],
      "text/plain": [
       "2*(1 + tan(cos(5) + sin(1))**2)*(cos(1) - 2*sin(5))*tan(cos(5) + sin(1))"
      ]
     },
     "execution_count": 6,
     "metadata": {},
     "output_type": "execute_result"
    }
   ],
   "source": [
    "f = (tan(sin(x)+cos(2*x+3)))**2\n",
    "diff(f).subs(x,1)"
   ]
  },
  {
   "cell_type": "markdown",
   "metadata": {
    "colab_type": "text",
    "id": "UHe0CgeB4WQU"
   },
   "source": [
    "### Задание 3"
   ]
  },
  {
   "cell_type": "markdown",
   "metadata": {
    "colab_type": "text",
    "id": "1AyBGSyN4WQV"
   },
   "source": [
    "Дана функция с неизвестными параметрами a и b, вам также известны значения функции fx в точках x. Найдите оптимальные параметры a, b, минимизирующие абсолютную ошибку <b>error</b>"
   ]
  },
  {
   "cell_type": "code",
   "execution_count": 66,
   "metadata": {
    "colab": {},
    "colab_type": "code",
    "id": "ZvlGEEwv4WQW"
   },
   "outputs": [],
   "source": [
    "def f(x, a, b):\n",
    "    return np.e**a * np.sin(b*x) + x"
   ]
  },
  {
   "cell_type": "code",
   "execution_count": 67,
   "metadata": {
    "colab": {},
    "colab_type": "code",
    "id": "EDxDneQT4WQZ"
   },
   "outputs": [],
   "source": [
    "x = np.array([0.        , 0.26315789, 0.52631579, 0.78947368, 1.05263158,\n",
    "              1.31578947, 1.57894737, 1.84210526, 2.10526316, 2.36842105,\n",
    "              2.63157895, 2.89473684, 3.15789474, 3.42105263, 3.68421053,\n",
    "              3.94736842, 4.21052632, 4.47368421, 4.73684211, 5.        ])"
   ]
  },
  {
   "cell_type": "code",
   "execution_count": 68,
   "metadata": {
    "colab": {},
    "colab_type": "code",
    "id": "PRqrEHAW4WQb"
   },
   "outputs": [],
   "source": [
    "fx = np.array([  0.        , -12.01819092, -18.90968634, -17.68786571,\n",
    "                -8.7529108 ,   4.27524517,  16.06801336,  21.81250213,\n",
    "                19.22059845,   9.48411207,  -3.22273056, -13.48576488,\n",
    "               -16.91096359, -11.95866834,  -0.58630088,  12.56873816,\n",
    "                22.12489421,  24.20292139,  18.04522521,   6.33211092])"
   ]
  },
  {
   "cell_type": "code",
   "execution_count": 69,
   "metadata": {
    "colab": {
     "base_uri": "https://localhost:8080/",
     "height": 265
    },
    "colab_type": "code",
    "id": "WWwi910p4WQe",
    "outputId": "8f9e9cfd-c3ca-4879-c57e-ab6419563364"
   },
   "outputs": [
    {
     "data": {
      "image/png": "[encoded data removed]",
      "text/plain": [
       "<Figure size 432x288 with 1 Axes>"
      ]
     },
     "metadata": {
      "needs_background": "light"
     },
     "output_type": "display_data"
    }
   ],
   "source": [
    "plt.plot(x, fx)\n",
    "plt.show()"
   ]
  },
  {
   "cell_type": "code",
   "execution_count": 70,
   "metadata": {
    "colab": {},
    "colab_type": "code",
    "id": "7LIdeUS94WQg"
   },
   "outputs": [],
   "source": [
    "def error(params):\n",
    "    return np.sum(np.abs(fx - f(x, params[0], params[1])))"
   ]
  },
  {
   "cell_type": "code",
   "execution_count": 89,
   "metadata": {},
   "outputs": [
    {
     "name": "stdout",
     "output_type": "stream",
     "text": [
      "[(-0.5, 0.5), (-0.23684211, 0.76315789), (0.02631578999999995, 1.02631579), (0.28947367999999996, 1.28947368), (0.5526315799999999, 1.55263158), (0.8157894699999999, 1.81578947), (1.07894737, 2.07894737), (1.34210526, 2.3421052600000003), (1.6052631599999998, 2.60526316), (1.8684210499999998, 2.86842105), (2.13157895, 3.13157895), (2.39473684, 3.39473684), (2.65789474, 3.65789474), (2.92105263, 3.92105263), (3.18421053, 4.18421053), (3.44736842, 4.44736842), (3.7105263199999996, 4.71052632), (3.97368421, 4.97368421), (4.23684211, 5.23684211), (4.5, 5.5)]\n"
     ]
    }
   ],
   "source": [
    "delt = 0.5\n",
    "bounds = [(y-delt, y+delt) for y in x]\n",
    "print(bounds)"
   ]
  },
  {
   "cell_type": "code",
   "execution_count": 95,
   "metadata": {
    "colab": {
     "base_uri": "https://localhost:8080/",
     "height": 300
    },
    "colab_type": "code",
    "id": "q-ZzQJRNGNC8",
    "outputId": "b9ef6edc-b15a-49f0-c7fe-e6dcb16b7fb3"
   },
   "outputs": [
    {
     "name": "stdout",
     "output_type": "stream",
     "text": [
      " barrier_parameter: 5.120000000000003e-08\n",
      " barrier_tolerance: 5.120000000000003e-08\n",
      "          cg_niter: 52\n",
      "      cg_stop_cond: 0\n",
      "            constr: [array([0.49999976, 0.31694722, 0.52631579, 0.78947368, 1.05263158,\n",
      "       1.31578947, 1.57894737, 1.84210526, 2.10526316, 2.36842105,\n",
      "       2.63157895, 2.89473684, 3.15789474, 3.42105263, 3.68421053,\n",
      "       3.94736842, 4.21052632, 4.47368421, 4.73684211, 5.        ])]\n",
      "       constr_nfev: [0]\n",
      "       constr_nhev: [0]\n",
      "       constr_njev: [0]\n",
      "    constr_penalty: 1.0\n",
      "  constr_violation: 0.0\n",
      "    execution_time: 0.2662029266357422\n",
      "               fun: 240.79068316488082\n",
      "              grad: array([-1.05464172,  0.        ,  0.        ,  0.        ,  0.        ,\n",
      "        0.        ,  0.        ,  0.        ,  0.        ,  0.        ,\n",
      "        0.        ,  0.        ,  0.        ,  0.        ,  0.        ,\n",
      "        0.        ,  0.        ,  0.        ,  0.        ,  0.        ])\n",
      "               jac: [<20x20 sparse matrix of type '<class 'numpy.float64'>'\n",
      "\twith 20 stored elements in Compressed Sparse Row format>]\n",
      "   lagrangian_grad: array([-4.97379915e-14,  2.40111959e-09,  0.00000000e+00,  0.00000000e+00,\n",
      "        0.00000000e+00,  0.00000000e+00, -3.29446847e-18,  3.29446847e-18,\n",
      "        0.00000000e+00,  0.00000000e+00,  0.00000000e+00,  0.00000000e+00,\n",
      "        0.00000000e+00,  0.00000000e+00, -8.66213214e-17,  0.00000000e+00,\n",
      "        0.00000000e+00,  0.00000000e+00,  0.00000000e+00,  0.00000000e+00])\n",
      "           message: '`gtol` termination condition is satisfied.'\n",
      "            method: 'tr_interior_point'\n",
      "              nfev: 609\n",
      "              nhev: 0\n",
      "               nit: 38\n",
      "             niter: 38\n",
      "              njev: 0\n",
      "        optimality: 2.4011195869086967e-09\n",
      "            status: 1\n",
      "           success: True\n",
      "         tr_radius: 35028379.56757925\n",
      "                 v: [array([ 1.05464172e+00,  2.40111959e-09,  0.00000000e+00,  0.00000000e+00,\n",
      "        0.00000000e+00,  0.00000000e+00, -3.29446847e-18,  3.29446847e-18,\n",
      "        0.00000000e+00,  0.00000000e+00,  0.00000000e+00,  0.00000000e+00,\n",
      "        0.00000000e+00,  0.00000000e+00, -8.66213214e-17,  0.00000000e+00,\n",
      "        0.00000000e+00,  0.00000000e+00,  0.00000000e+00,  0.00000000e+00])]\n",
      "                 x: array([0.49999976, 0.31694722, 0.52631579, 0.78947368, 1.05263158,\n",
      "       1.31578947, 1.57894737, 1.84210526, 2.10526316, 2.36842105,\n",
      "       2.63157895, 2.89473684, 3.15789474, 3.42105263, 3.68421053,\n",
      "       3.94736842, 4.21052632, 4.47368421, 4.73684211, 5.        ])\n"
     ]
    },
    {
     "data": {
      "image/png": "[encoded data removed]",
      "text/plain": [
       "<Figure size 432x288 with 1 Axes>"
      ]
     },
     "metadata": {
      "needs_background": "light"
     },
     "output_type": "display_data"
    },
    {
     "name": "stdout",
     "output_type": "stream",
     "text": [
      "a=0.49999975726314466\n",
      "b=0.3169472225354243\n"
     ]
    }
   ],
   "source": [
    "res = minimize(error, x,  method='trust-constr', bounds=bounds)\n",
    "print(res)\n",
    "a = res['x'][0]\n",
    "b = res['x'][1]\n",
    "plt.plot(x, fx)\n",
    "plt.plot(x, f(x, a, b))\n",
    "plt.show()\n",
    "print(f'a={a}\\nb={b}')"
   ]
  },
  {
   "cell_type": "markdown",
   "metadata": {
    "colab_type": "text",
    "id": "E11Ap-GL4WQj"
   },
   "source": [
    "### Задание 4"
   ]
  },
  {
   "cell_type": "markdown",
   "metadata": {
    "colab_type": "text",
    "id": "Yvq6GybU4WQj"
   },
   "source": [
    "Создайте собственную дискретную случайную величину с 20 значениями. Сгенерируйте 1000 выборок размера 50. Посчитайте среднее для каждой выборки. Постройте гистограмму распределения средних."
   ]
  },
  {
   "cell_type": "code",
   "execution_count": 35,
   "metadata": {
    "colab": {
     "base_uri": "https://localhost:8080/",
     "height": 1000
    },
    "colab_type": "code",
    "id": "2MSoOKCYwCzO",
    "outputId": "f66e71b1-42d9-4d04-c11a-e6c11b4776d7"
   },
   "outputs": [
    {
     "data": {
      "image/png": "[encoded data removed]",
      "text/plain": [
       "<Figure size 432x288 with 1 Axes>"
      ]
     },
     "metadata": {
      "needs_background": "light"
     },
     "output_type": "display_data"
    }
   ],
   "source": [
    "el = np.random.randint(0, 10, 20)\n",
    "s = np.random.random(20)\n",
    "mn = np.array([])\n",
    "for i in range(1000):\n",
    "    n = np.mean(np.random.choice(el, 50, p=s / sum(s)))\n",
    "    mn = np.append(mn,n)\n",
    "plt.hist(mn, 50)\n",
    "plt.show()"
   ]
  },
  {
   "cell_type": "markdown",
   "metadata": {
    "colab_type": "text",
    "id": "vPC9HqQP4WQk"
   },
   "source": [
    "### Задание 5"
   ]
  },
  {
   "cell_type": "markdown",
   "metadata": {
    "colab_type": "text",
    "id": "SMM76pgX4WQk"
   },
   "source": [
    "Найдите собственные значения и собственные вектора матрицы (на python и на бумаге)\n",
    "\n",
    "[[1, 4],\n",
    "\n",
    " [1, 1]]"
   ]
  },
  {
   "cell_type": "code",
   "execution_count": 24,
   "metadata": {
    "colab": {
     "base_uri": "https://localhost:8080/",
     "height": 122
    },
    "colab_type": "code",
    "id": "nUvt_B5u9Hrx",
    "outputId": "ad6c623a-5ea3-47ed-dcf2-3b2809b3d282"
   },
   "outputs": [
    {
     "name": "stdout",
     "output_type": "stream",
     "text": [
      "собственные значения\n",
      " [ 3. -1.],\n",
      "\n",
      "собственные вектора \n",
      "[[ 0.89442719 -0.89442719]\n",
      " [ 0.4472136   0.4472136 ]]\n"
     ]
    }
   ],
   "source": [
    "z = np.array([[1, 4],\n",
    "              [1, 1]])\n",
    "v, vec = np.linalg.eig(z)\n",
    "print(f'собственные значения\\n {v},\\n\\nсобственные вектора \\n{vec}')"
   ]
  }
 ],
 "metadata": {
  "colab": {
   "collapsed_sections": [],
   "include_colab_link": true,
   "name": "mds_fin.ipynb",
   "provenance": []
  },
  "kernelspec": {
   "display_name": "Python 3",
   "language": "python",
   "name": "python3"
  },
  "language_info": {
   "codemirror_mode": {
    "name": "ipython",
    "version": 3
   },
   "file_extension": ".py",
   "mimetype": "text/x-python",
   "name": "python",
   "nbconvert_exporter": "python",
   "pygments_lexer": "ipython3",
   "version": "3.7.6"
  }
 },
 "nbformat": 4,
 "nbformat_minor": 1
}
